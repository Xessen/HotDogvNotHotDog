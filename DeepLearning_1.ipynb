{
  "nbformat": 4,
  "nbformat_minor": 0,
  "metadata": {
    "colab": {
      "name": "DeepLearning#1.ipynb",
      "provenance": [],
      "collapsed_sections": [],
      "authorship_tag": "ABX9TyPcG8pmjB+v0+5C8ASDJsxT",
      "include_colab_link": true
    },
    "kernelspec": {
      "name": "python3",
      "display_name": "Python 3"
    }
  },
  "cells": [
    {
      "cell_type": "markdown",
      "metadata": {
        "id": "view-in-github",
        "colab_type": "text"
      },
      "source": [
        "<a href=\"https://colab.research.google.com/github/Xessen/HotDogvNotHotDog/blob/main/DeepLearning_1.ipynb\" target=\"_parent\"><img src=\"https://colab.research.google.com/assets/colab-badge.svg\" alt=\"Open In Colab\"/></a>"
      ]
    },
    {
      "cell_type": "code",
      "metadata": {
        "id": "8nmHSNABGT3-"
      },
      "source": [
        "import numpy as np\r\n",
        "import matplotlib.pyplot as plt\r\n",
        "import h5py\r\n",
        "import scipy\r\n",
        "from PIL import Image\r\n",
        "from scipy import ndimage\r\n",
        "import matplotlib.image as mpimg\r\n",
        "import cv2\r\n",
        "import os\r\n"
      ],
      "execution_count": 164,
      "outputs": []
    },
    {
      "cell_type": "code",
      "metadata": {
        "colab": {
          "base_uri": "https://localhost:8080/"
        },
        "id": "-W092DczR4Hb",
        "outputId": "65c14fde-02be-45a2-cf01-0d03e7ba83aa"
      },
      "source": [
        "from google.colab import drive\r\n",
        "\r\n",
        "drive.mount(\"/content/gdrive\")\r\n",
        "!cp -r '/content/gdrive/MyDrive/n_hotdog' n_hotdog\r\n",
        "!cp -r '/content/gdrive/MyDrive/hotdog' hotdog"
      ],
      "execution_count": null,
      "outputs": [
        {
          "output_type": "stream",
          "text": [
            "Mounted at /content/gdrive\n"
          ],
          "name": "stdout"
        }
      ]
    },
    {
      "cell_type": "code",
      "metadata": {
        "colab": {
          "base_uri": "https://localhost:8080/"
        },
        "id": "MtNmTyTIUzq5",
        "outputId": "d8e8574f-75c1-4d00-ecb1-ce9cd9c44f06"
      },
      "source": [
        "len(os.listdir(\"/content/hotdog\"))"
      ],
      "execution_count": null,
      "outputs": [
        {
          "output_type": "execute_result",
          "data": {
            "text/plain": [
              "499"
            ]
          },
          "metadata": {
            "tags": []
          },
          "execution_count": 4
        }
      ]
    },
    {
      "cell_type": "code",
      "metadata": {
        "id": "4xwzxg2WGXmz"
      },
      "source": [
        "x_test=[]\r\n",
        "y_test=[[]]\r\n",
        "x_train=[]\r\n",
        "y_train=[[]]\r\n",
        "import random\r\n",
        "path=[\"/content/hotdog\",\"/content/n_hotdog\"]\r\n",
        "def preprocess_image(pathlist):\r\n",
        "  global x_test,x_train,y_test,y_train\r\n",
        "  for path in pathlist:\r\n",
        "    numberoffiles=len(os.listdir(path))\r\n",
        "    counter=0\r\n",
        "    for img in os.listdir(path):\r\n",
        "      #Yüzde 70'ini training 30'unu test olarak ayırıyor.\r\n",
        "      if counter<numberoffiles*0.7:\r\n",
        "        #cv2'nin sıradan renk şeması bgr onu rgb'ye çevirip rgb kodlarını pic'e atıyor\r\n",
        "        pic = cv2.cvtColor(cv2.imread(os.path.join(path,img)),cv2.COLOR_BGR2RGB)\r\n",
        "        #tekrardan okuyup bgr halinden çıkmasını sağlıyor\r\n",
        "        pic = cv2.imread(os.path.join(path,img))\r\n",
        "        #resizelıyor\r\n",
        "        pic = cv2.resize(pic,(80,80))\r\n",
        "        \r\n",
        "        x_train.append([pic])\r\n",
        "        #Manuel ayarlanması gereken bir kısım hangi fotoğrafların 1 hangilerinin 0 değeri alacağını belirliyor\r\n",
        "        if path==\"/content/hotdog\":\r\n",
        "          y_train[0].append(1)\r\n",
        "        else:\r\n",
        "          y_train[0].append(0)\r\n",
        "        counter+=1\r\n",
        "      else:\r\n",
        "        pic = cv2.cvtColor(cv2.imread(os.path.join(path,img)),cv2.COLOR_BGR2RGB)\r\n",
        "        pic = cv2.imread(os.path.join(path,img))\r\n",
        "        pic = cv2.resize(pic,(80,80))\r\n",
        "        x_test.append([pic])\r\n",
        "        if path==\"/content/hotdog\":\r\n",
        "          y_test[0].append(1)\r\n",
        "        else:\r\n",
        "          y_test[0].append(0)\r\n",
        "\r\n",
        "        counter+=1\r\n",
        "  #eğer accuracy absürd derecede düşük çıkarsa bu kısmı sil at demekki sequence karışmış\r\n",
        "  temp0=list(zip(x_train,y_train[0]))\r\n",
        "  random.shuffle(temp0)\r\n",
        "  x_train,y_train[0]=zip(*temp0)\r\n",
        "  temp1=list(zip(x_test,y_test[0]))\r\n",
        "  random.shuffle(temp1)\r\n",
        "  x_test,y_test[0]=zip(*temp1)\r\n",
        "  \r\n",
        "  #listeleri numpy arraylere çeviriyor.\r\n",
        "  x_train=np.array(x_train)\r\n",
        "  y_train=np.array(y_train)\r\n",
        "  x_test=np.array(x_test)\r\n",
        "  y_test=np.array(y_test)\r\n",
        "\r\n",
        "  #Fotoğraf sayısı kadar sütun,piksel sayısı*3(r-g-b) satır olan matrixe dönüşütülürüz(flattening)\r\n",
        "  x_train=x_train.reshape(x_train.shape[0],-1).T\r\n",
        "  x_test=x_test.reshape(x_test.shape[0],-1).T\r\n",
        "  #işlem kolaylığı sağlansın diye 255'e oranlanır\r\n",
        "  x_train=x_train/255.\r\n",
        "  x_test=x_test/255.\r\n",
        "\r\n",
        "preprocess_image(path)"
      ],
      "execution_count": 170,
      "outputs": []
    },
    {
      "cell_type": "code",
      "metadata": {
        "colab": {
          "base_uri": "https://localhost:8080/"
        },
        "id": "YPu4uHwuVhcY",
        "outputId": "cb3f6fe3-7650-4330-f838-5e8c1b91910c"
      },
      "source": [
        "print(x_test.shape)"
      ],
      "execution_count": 171,
      "outputs": [
        {
          "output_type": "stream",
          "text": [
            "(19200, 298)\n"
          ],
          "name": "stdout"
        }
      ]
    },
    {
      "cell_type": "code",
      "metadata": {
        "id": "kn6yxLodORz5"
      },
      "source": [
        "def sigmoid(x):\r\n",
        "  s=1/(1+np.exp(-x))\r\n",
        "  return s"
      ],
      "execution_count": 172,
      "outputs": []
    },
    {
      "cell_type": "code",
      "metadata": {
        "id": "csFVGYxc9Ft8"
      },
      "source": [
        "def propagate(w,b,X,Y):\r\n",
        "  m=X.shape[1]\r\n",
        "  #ileri propagasyon\r\n",
        "  A=sigmoid(np.dot(w.T,X)+b)\r\n",
        "  J=(-1/m)*np.sum(Y*np.log(A)+(1-Y)*np.log(1-A))\r\n",
        "\r\n",
        "  #geri propagasyon\r\n",
        "  dw=(1/m)*np.dot(X,(A-Y).T)\r\n",
        "  db=(1/m)*np.sum(A-Y)\r\n",
        "\r\n",
        "  J=np.squeeze(J)\r\n",
        "\r\n",
        "  grads={\r\n",
        "      'dw':dw,\r\n",
        "      'db':db\r\n",
        "  }\r\n",
        "  return grads,J"
      ],
      "execution_count": 173,
      "outputs": []
    },
    {
      "cell_type": "code",
      "metadata": {
        "id": "GMJlf9Id9Nwt"
      },
      "source": [
        "def optimization(w,b,X,Y,num_iter,learning_rate):\r\n",
        "  for i in range(num_iter):\r\n",
        "    #num_iter kez propagate yapılır her seferinde w ve b'nin türevi alındığınından değerler hata değerini minimuma götürür\r\n",
        "    grads,J=propagate(w,b,X,Y)\r\n",
        "    w=w-learning_rate*grads['dw']\r\n",
        "    b=b-learning_rate*grads['db']\r\n",
        "  parameter={\r\n",
        "      'w':w,\r\n",
        "      'b':b\r\n",
        "  }\r\n",
        "  return parameter,grads,J"
      ],
      "execution_count": 174,
      "outputs": []
    },
    {
      "cell_type": "code",
      "metadata": {
        "colab": {
          "base_uri": "https://localhost:8080/"
        },
        "id": "BOXsIbojB3-f",
        "outputId": "ffeac9c1-c2d6-4514-8e2a-9348b5625b06"
      },
      "source": [
        "parameter,grads,J=optimization(np.array([[1.],[2.]]), 2., np.array([[1.,2.,-1.],[3.,4.,-3.2]]), np.array([[1,0,1]]),100,0.09)\r\n",
        "print(parameter['w'])"
      ],
      "execution_count": 175,
      "outputs": [
        {
          "output_type": "stream",
          "text": [
            "[[-0.64078657]\n",
            " [-0.43895744]]\n"
          ],
          "name": "stdout"
        }
      ]
    },
    {
      "cell_type": "code",
      "metadata": {
        "id": "qBnMkF-OGRj0"
      },
      "source": [
        "def predict(w,b,X):\r\n",
        "  m = X.shape[1]\r\n",
        "  prediction = np.zeros((1,m))\r\n",
        "  #w'yu (m,1) şekline sokarız ki hiç bir X değeri boşta kalmasın ve her fotoğraftaki X değerleri için broadcasting yapsın\r\n",
        "  w=w.reshape(X.shape[0],1)\r\n",
        "  A=sigmoid(np.dot(w.T,X)+b)\r\n",
        "  for i in range(A.shape[1]):\r\n",
        "    prediction[0,i]=round(A[0,i])\r\n",
        "  return prediction"
      ],
      "execution_count": 176,
      "outputs": []
    },
    {
      "cell_type": "code",
      "metadata": {
        "id": "RKgaHmc5IMkq"
      },
      "source": [
        "def w_b(x):\r\n",
        "  #w değerlerini başlatmak için x boyutlu 0'lar kümesi oluşturuyor\r\n",
        "  w=np.zeros(x)\r\n",
        "  b=0\r\n",
        "  return w,b"
      ],
      "execution_count": 177,
      "outputs": []
    },
    {
      "cell_type": "code",
      "metadata": {
        "id": "8QdNTyniMUmB"
      },
      "source": [
        "def nn(x_train,x_test,y_train,y_test,num_iter,learning_rate):\r\n",
        "  w,b=w_b((x_train.shape[0],1))\r\n",
        "  parameter,grads,J=optimization(w,b,x_train,y_train,num_iter,learning_rate)\r\n",
        "  w=parameter['w']\r\n",
        "  b=parameter['b']\r\n",
        "  prediction_train=predict(w,b,x_train)\r\n",
        "  prediction_test=predict(w,b,x_test)\r\n",
        "  print(f\"Training accuracy: {100-np.mean(np.abs(prediction_train-y_train))*100}\")\r\n",
        "  print(f\"Testing accuracy: {100-np.mean(np.abs(prediction_test-y_test))*100}\")\r\n",
        "  return w,b\r\n"
      ],
      "execution_count": 198,
      "outputs": []
    },
    {
      "cell_type": "code",
      "metadata": {
        "colab": {
          "base_uri": "https://localhost:8080/"
        },
        "id": "UduOMV2ZPB2I",
        "outputId": "7f48eefb-3822-4c05-e5d9-9e71981b71dc"
      },
      "source": [
        "w,b=nn(x_train,x_test,y_train,y_test,300,0.0041)"
      ],
      "execution_count": 204,
      "outputs": [
        {
          "output_type": "stream",
          "text": [
            "(19200, 700)\n",
            "(19200, 1)\n",
            "(19200, 1)\n",
            "(19200, 298)\n",
            "(19200, 1)\n",
            "(19200, 1)\n",
            "Training accuracy: 55.0\n",
            "Testing accuracy: 53.691275167785236\n"
          ],
          "name": "stdout"
        }
      ]
    },
    {
      "cell_type": "code",
      "metadata": {
        "colab": {
          "base_uri": "https://localhost:8080/"
        },
        "id": "UZ4rlGTRPHl1",
        "outputId": "0bc87df8-7eb6-45c5-dbd7-b14a835eefa7"
      },
      "source": [
        "print(b)"
      ],
      "execution_count": 202,
      "outputs": [
        {
          "output_type": "stream",
          "text": [
            "-1.8417565561122606\n"
          ],
          "name": "stdout"
        }
      ]
    },
    {
      "cell_type": "code",
      "metadata": {
        "id": "_P1FIcJ0XXXT"
      },
      "source": [
        ""
      ],
      "execution_count": null,
      "outputs": []
    }
  ]
}